{
  "nbformat": 4,
  "nbformat_minor": 0,
  "metadata": {
    "colab": {
      "provenance": []
    },
    "kernelspec": {
      "name": "python3",
      "display_name": "Python 3"
    },
    "language_info": {
      "name": "python"
    }
  },
  "cells": [
    {
      "cell_type": "code",
      "execution_count": 1,
      "metadata": {
        "id": "OkkN655h2i7P",
        "colab": {
          "base_uri": "https://localhost:8080/"
        },
        "outputId": "f90d1f23-6c90-4985-adf4-08f4717ea5a5"
      },
      "outputs": [
        {
          "output_type": "stream",
          "name": "stdout",
          "text": [
            "Looking in indexes: https://pypi.org/simple, https://us-python.pkg.dev/colab-wheels/public/simple/\n",
            "Collecting pyspark\n",
            "  Downloading pyspark-3.3.2.tar.gz (281.4 MB)\n",
            "\u001b[2K     \u001b[90m━━━━━━━━━━━━━━━━━━━━━━━━━━━━━━━━━━━━━━━\u001b[0m \u001b[32m281.4/281.4 MB\u001b[0m \u001b[31m4.8 MB/s\u001b[0m eta \u001b[36m0:00:00\u001b[0m\n",
            "\u001b[?25h  Preparing metadata (setup.py) ... \u001b[?25l\u001b[?25hdone\n",
            "Collecting py4j==0.10.9.5\n",
            "  Downloading py4j-0.10.9.5-py2.py3-none-any.whl (199 kB)\n",
            "\u001b[2K     \u001b[90m━━━━━━━━━━━━━━━━━━━━━━━━━━━━━━━━━━━━━━\u001b[0m \u001b[32m199.7/199.7 KB\u001b[0m \u001b[31m10.5 MB/s\u001b[0m eta \u001b[36m0:00:00\u001b[0m\n",
            "\u001b[?25hBuilding wheels for collected packages: pyspark\n",
            "  Building wheel for pyspark (setup.py) ... \u001b[?25l\u001b[?25hdone\n",
            "  Created wheel for pyspark: filename=pyspark-3.3.2-py2.py3-none-any.whl size=281824028 sha256=4fb5efb5503403bd5faf41f45defa551aa9704cfe23e0a15b9888b2ef59fecc8\n",
            "  Stored in directory: /root/.cache/pip/wheels/6c/e3/9b/0525ce8a69478916513509d43693511463c6468db0de237c86\n",
            "Successfully built pyspark\n",
            "Installing collected packages: py4j, pyspark\n",
            "  Attempting uninstall: py4j\n",
            "    Found existing installation: py4j 0.10.9.7\n",
            "    Uninstalling py4j-0.10.9.7:\n",
            "      Successfully uninstalled py4j-0.10.9.7\n",
            "Successfully installed py4j-0.10.9.5 pyspark-3.3.2\n"
          ]
        }
      ],
      "source": [
        "!pip install pyspark"
      ]
    },
    {
      "cell_type": "code",
      "source": [
        "from pyspark.sql import SparkSession\n",
        "spark = SparkSession.builder.appName(\"Vine_review_Analysis\").getOrCreate()"
      ],
      "metadata": {
        "id": "XYkfoIVMOavC"
      },
      "execution_count": 2,
      "outputs": []
    },
    {
      "cell_type": "code",
      "source": [
        "from pyspark import SparkFiles\n",
        "url = \"https://s3.amazonaws.com/amazon-reviews-pds/tsv/amazon_reviews_us_Health_Personal_Care_v1_00.tsv.gz\"\n",
        "spark.sparkContext.addFile(url)\n",
        "df = spark.read.option(\"encoding\", \"UTF-8\").csv(SparkFiles.get(\"amazon_reviews_us_Health_Personal_Care_v1_00.tsv.gz\"), sep=\"\\t\", header=True, inferSchema=True)\n",
        "df.show()"
      ],
      "metadata": {
        "colab": {
          "base_uri": "https://localhost:8080/"
        },
        "id": "QDNfzcSWOiiA",
        "outputId": "d814e5ee-8d4e-4028-f90b-fc4cf4d9ec17"
      },
      "execution_count": 3,
      "outputs": [
        {
          "output_type": "stream",
          "name": "stdout",
          "text": [
            "+-----------+-----------+--------------+----------+--------------+--------------------+--------------------+-----------+-------------+-----------+----+-----------------+--------------------+--------------------+-------------------+\n",
            "|marketplace|customer_id|     review_id|product_id|product_parent|       product_title|    product_category|star_rating|helpful_votes|total_votes|vine|verified_purchase|     review_headline|         review_body|        review_date|\n",
            "+-----------+-----------+--------------+----------+--------------+--------------------+--------------------+-----------+-------------+-----------+----+-----------------+--------------------+--------------------+-------------------+\n",
            "|         US|     650634| R3EQSTM9PWRAL|B0091LBZSU|     578484426|Demograss Capsule...|Health & Personal...|          3|            0|          0|   N|                Y|         Three Stars|Only came with 30...|2015-08-31 00:00:00|\n",
            "|         US|   19827510| RBWPRK17XKIXD|B00PWW3LQ6|     456433146|Viva Labs #1 Prem...|Health & Personal...|          5|            0|          0|   N|                Y|A good portable s...|Really yummy and ...|2015-08-31 00:00:00|\n",
            "|         US|    1520474| RRSLOAF273XFC|B00DKEWA92|     460764511|     Whip-it Cleaner|Health & Personal...|          5|            1|          2|   N|                Y|       You need this|You cannot go wro...|2015-08-31 00:00:00|\n",
            "|         US|   23905905|R3S8W9Q6SWIT8O|B0015R3A7M|     135102038|Optimum Nutrition...|Health & Personal...|          4|            0|          0|   N|                Y|this is a good vi...|This is a good da...|2015-08-31 00:00:00|\n",
            "|         US|   28215779|R3QQ6NSLRVBFJC|B006B8U8BG|     200666829|Wet-Stop3 Bedwett...|Health & Personal...|          4|            0|          0|   N|                Y|progress is defin...|We have been usin...|2015-08-31 00:00:00|\n",
            "|         US|   23260912|R2XYDBMHUVJCSX|B00PFZFD8Y|     344168617|NatraCure Plantar...|Health & Personal...|          2|            0|          1|   N|                Y|           Two Stars|I wear it a few t...|2015-08-31 00:00:00|\n",
            "|         US|    7965616|R1L94ESVC657A9|B0034792JG|     291831570|Glade Sense & Spr...|Health & Personal...|          5|            0|          0|   N|                Y|          Five Stars|Love this product...|2015-08-31 00:00:00|\n",
            "|         US|    3443178|R3DI4B8LDWFQ3K|B000052XIA|     493678550|Vagisil Anti-Itch...|Health & Personal...|          1|            3|          4|   N|                Y|It still is itchi...|It still is itchi...|2015-08-31 00:00:00|\n",
            "|         US|   20838781|R1G7VV4HCXUQQL|B004GCUK8A|       3902598|Glade Automatic S...|Health & Personal...|          5|            0|          0|   N|                Y|          Five Stars|               Good!|2015-08-31 00:00:00|\n",
            "|         US|   15267517|R3TTNYN1TAMUSU|B00K7W1QAO|     633971374|Kirkland Signatur...|Health & Personal...|          5|            0|          0|   N|                Y|      Will buy again|These bags are ma...|2015-08-31 00:00:00|\n",
            "|         US|   30105089|R3AMX2D9HMWV6Z|B0034KYA36|     854858899|Zyrtec Prescripti...|Health & Personal...|          5|            0|          0|   N|                Y|         Good price!|Delivered product...|2015-08-31 00:00:00|\n",
            "|         US|    1622207|R3PO3K321GY8HI|B00C7UZTT8|     264608272|Pure Garcinia Cam...|Health & Personal...|          1|            0|          0|   N|                Y|       Doesn't work.|So far I've felt ...|2015-08-31 00:00:00|\n",
            "|         US|   29856075| RVQ0UNYX6IEVK|B005F9XFN0|     638667060|Now  Better Stevi...|Health & Personal...|          1|            0|          1|   N|                Y|           not quite|Not nearly as goo...|2015-08-31 00:00:00|\n",
            "|         US|   52319463|R25E9NIGO2XQ3D|B00Q8YSPTU|     130354267|Now Foods Stevia ...|Health & Personal...|          5|            0|          0|   N|                Y|Reasonably priced...|Reasonably priced...|2015-08-31 00:00:00|\n",
            "|         US|   16857013|R3GIEXIIIR2G9Y|B00N34HBVG|     700530604|Compression Thigh...|Health & Personal...|          1|            0|          0|   N|                Y|DO NOT BUY!!!! Ve...|They are sooooooo...|2015-08-31 00:00:00|\n",
            "|         US|   12269680|R264BH3U417NXF|B002UN2UKS|     731161248|Brownmed SEAL-TIG...|Health & Personal...|          5|            0|          0|   N|                Y|Worked Great!! Ve...|Worked Great!!  V...|2015-08-31 00:00:00|\n",
            "|         US|   29116955|R2C6S0XJIMP0Z2|B003265KYK|     719831457|Botanic Choice Gl...|Health & Personal...|          5|            0|          0|   N|                Y|          Five Stars|Great price, on t...|2015-08-31 00:00:00|\n",
            "|         US|   14533949|R2LRJYGC2YYR2F|B00939J5T6|     377517622|Shibari SHIB-WHT ...|Health & Personal...|          2|            0|          0|   N|                Y|Cant handle long ...|Broke down after ...|2015-08-31 00:00:00|\n",
            "|         US|   11274313|R3SVW9ZP1CZPW7|B00LJOQKRI|     376583016|Eyekepper 5-pack ...|Health & Personal...|          1|            0|          1|   N|                Y|            One Star|I think the presc...|2015-08-31 00:00:00|\n",
            "|         US|   14861684|R1GLA6RQUF4Q79|B002TG3QPO|     813956658|Isopure Zero Carb...|Health & Personal...|          4|            0|          0|   N|                Y|          Four Stars|            Loved it|2015-08-31 00:00:00|\n",
            "+-----------+-----------+--------------+----------+--------------+--------------------+--------------------+-----------+-------------+-----------+----+-----------------+--------------------+--------------------+-------------------+\n",
            "only showing top 20 rows\n",
            "\n"
          ]
        }
      ]
    },
    {
      "cell_type": "code",
      "source": [
        "vine_df = df.select([\"review_id\",\"star_rating\",\"helpful_votes\",\"total_votes\",\"vine\",\"verified_purchase\"])\n",
        "vine_df.show()"
      ],
      "metadata": {
        "colab": {
          "base_uri": "https://localhost:8080/"
        },
        "id": "n5ZEpLswOq23",
        "outputId": "f6433527-ca7a-4b6f-ad0b-36ca80837092"
      },
      "execution_count": 4,
      "outputs": [
        {
          "output_type": "stream",
          "name": "stdout",
          "text": [
            "+--------------+-----------+-------------+-----------+----+-----------------+\n",
            "|     review_id|star_rating|helpful_votes|total_votes|vine|verified_purchase|\n",
            "+--------------+-----------+-------------+-----------+----+-----------------+\n",
            "| R3EQSTM9PWRAL|          3|            0|          0|   N|                Y|\n",
            "| RBWPRK17XKIXD|          5|            0|          0|   N|                Y|\n",
            "| RRSLOAF273XFC|          5|            1|          2|   N|                Y|\n",
            "|R3S8W9Q6SWIT8O|          4|            0|          0|   N|                Y|\n",
            "|R3QQ6NSLRVBFJC|          4|            0|          0|   N|                Y|\n",
            "|R2XYDBMHUVJCSX|          2|            0|          1|   N|                Y|\n",
            "|R1L94ESVC657A9|          5|            0|          0|   N|                Y|\n",
            "|R3DI4B8LDWFQ3K|          1|            3|          4|   N|                Y|\n",
            "|R1G7VV4HCXUQQL|          5|            0|          0|   N|                Y|\n",
            "|R3TTNYN1TAMUSU|          5|            0|          0|   N|                Y|\n",
            "|R3AMX2D9HMWV6Z|          5|            0|          0|   N|                Y|\n",
            "|R3PO3K321GY8HI|          1|            0|          0|   N|                Y|\n",
            "| RVQ0UNYX6IEVK|          1|            0|          1|   N|                Y|\n",
            "|R25E9NIGO2XQ3D|          5|            0|          0|   N|                Y|\n",
            "|R3GIEXIIIR2G9Y|          1|            0|          0|   N|                Y|\n",
            "|R264BH3U417NXF|          5|            0|          0|   N|                Y|\n",
            "|R2C6S0XJIMP0Z2|          5|            0|          0|   N|                Y|\n",
            "|R2LRJYGC2YYR2F|          2|            0|          0|   N|                Y|\n",
            "|R3SVW9ZP1CZPW7|          1|            0|          1|   N|                Y|\n",
            "|R1GLA6RQUF4Q79|          4|            0|          0|   N|                Y|\n",
            "+--------------+-----------+-------------+-----------+----+-----------------+\n",
            "only showing top 20 rows\n",
            "\n"
          ]
        }
      ]
    },
    {
      "cell_type": "code",
      "source": [
        "total_votes_df = vine_df.filter(\"total_votes >= 20\")\n",
        "total_votes_df.show()"
      ],
      "metadata": {
        "colab": {
          "base_uri": "https://localhost:8080/"
        },
        "id": "fH7ihFrLO1i3",
        "outputId": "06d57fce-dad5-4fb1-80ad-c9badc551856"
      },
      "execution_count": 28,
      "outputs": [
        {
          "output_type": "stream",
          "name": "stdout",
          "text": [
            "+--------------+-----------+-------------+-----------+----+-----------------+\n",
            "|     review_id|star_rating|helpful_votes|total_votes|vine|verified_purchase|\n",
            "+--------------+-----------+-------------+-----------+----+-----------------+\n",
            "|R2984F9VD9WDJB|          1|           37|         46|   N|                Y|\n",
            "|R218TGWCIAZYNY|          5|          191|        198|   N|                Y|\n",
            "| RGC2TLSBHLPZA|          5|           49|         50|   N|                Y|\n",
            "|R2YYVOW2RYGRM8|          5|           27|         28|   N|                Y|\n",
            "|R2X4WF89XICSB2|          1|           21|         21|   N|                Y|\n",
            "|R1M1KJ4SQE4INF|          5|           20|         21|   N|                N|\n",
            "|R1M8EEGH2TVS0Q|          1|            6|         29|   N|                Y|\n",
            "| RK8MUEWEUGV6V|          4|          105|        113|   N|                N|\n",
            "|R3JF2SBRHZITRZ|          5|           24|         26|   N|                N|\n",
            "| RLJN73T8WUYIR|          5|          124|        128|   N|                Y|\n",
            "| RYA9ESIATW4EC|          1|           23|         27|   N|                N|\n",
            "|R15RF9IWXWX3IH|          5|           25|         31|   N|                N|\n",
            "|R1GNMWLUMCOC6V|          5|           21|         23|   N|                N|\n",
            "|R3F5N905ZVOXES|          1|            3|         35|   N|                N|\n",
            "|R2SLKTWAJ7BR9K|          5|           33|         36|   N|                Y|\n",
            "|R1NKKJ720BC2VM|          5|           25|         28|   N|                Y|\n",
            "|R3ATNR4AESV090|          4|           38|         40|   N|                Y|\n",
            "|R36XRSNV1M0ADW|          5|           82|         95|   N|                Y|\n",
            "|R203G800OB64XF|          3|           57|         72|   N|                N|\n",
            "|R31LBT37BJZE6B|          1|           14|         20|   N|                Y|\n",
            "+--------------+-----------+-------------+-----------+----+-----------------+\n",
            "only showing top 20 rows\n",
            "\n"
          ]
        }
      ]
    },
    {
      "cell_type": "code",
      "source": [
        "import pyspark.sql.functions as fun\n",
        "helpful_votes_df = total_votes_df.withColumn(\"more_helpful\",(fun.col(\"helpful_votes\") / fun.col(\"total_votes\"))).filter(\"more_helpful >= 0.5\")\n",
        "helpful_votes_df.show()"
      ],
      "metadata": {
        "colab": {
          "base_uri": "https://localhost:8080/"
        },
        "id": "SkyYdFW-UQHo",
        "outputId": "d6eb3dda-06fd-4ce9-bac2-6467cfc0db58"
      },
      "execution_count": 50,
      "outputs": [
        {
          "output_type": "stream",
          "name": "stdout",
          "text": [
            "+--------------+-----------+-------------+-----------+----+-----------------+------------------+\n",
            "|     review_id|star_rating|helpful_votes|total_votes|vine|verified_purchase|      more_helpful|\n",
            "+--------------+-----------+-------------+-----------+----+-----------------+------------------+\n",
            "|R2984F9VD9WDJB|          1|           37|         46|   N|                Y|0.8043478260869565|\n",
            "|R218TGWCIAZYNY|          5|          191|        198|   N|                Y|0.9646464646464646|\n",
            "| RGC2TLSBHLPZA|          5|           49|         50|   N|                Y|              0.98|\n",
            "|R2YYVOW2RYGRM8|          5|           27|         28|   N|                Y|0.9642857142857143|\n",
            "|R2X4WF89XICSB2|          1|           21|         21|   N|                Y|               1.0|\n",
            "|R1M1KJ4SQE4INF|          5|           20|         21|   N|                N|0.9523809523809523|\n",
            "| RK8MUEWEUGV6V|          4|          105|        113|   N|                N|0.9292035398230089|\n",
            "|R3JF2SBRHZITRZ|          5|           24|         26|   N|                N|0.9230769230769231|\n",
            "| RLJN73T8WUYIR|          5|          124|        128|   N|                Y|           0.96875|\n",
            "| RYA9ESIATW4EC|          1|           23|         27|   N|                N|0.8518518518518519|\n",
            "|R15RF9IWXWX3IH|          5|           25|         31|   N|                N|0.8064516129032258|\n",
            "|R1GNMWLUMCOC6V|          5|           21|         23|   N|                N|0.9130434782608695|\n",
            "|R2SLKTWAJ7BR9K|          5|           33|         36|   N|                Y|0.9166666666666666|\n",
            "|R1NKKJ720BC2VM|          5|           25|         28|   N|                Y|0.8928571428571429|\n",
            "|R3ATNR4AESV090|          4|           38|         40|   N|                Y|              0.95|\n",
            "|R36XRSNV1M0ADW|          5|           82|         95|   N|                Y|0.8631578947368421|\n",
            "|R203G800OB64XF|          3|           57|         72|   N|                N|0.7916666666666666|\n",
            "|R31LBT37BJZE6B|          1|           14|         20|   N|                Y|               0.7|\n",
            "|R119CG8XK73M2B|          5|           77|         77|   N|                Y|               1.0|\n",
            "| RCOVDTGR8NH87|          5|           59|         67|   N|                N|0.8805970149253731|\n",
            "+--------------+-----------+-------------+-----------+----+-----------------+------------------+\n",
            "only showing top 20 rows\n",
            "\n"
          ]
        }
      ]
    },
    {
      "cell_type": "code",
      "source": [
        "# Challenge asked vor \"== 'Y' but this code also works * paid_df = helpful_votes_df.filter(fun.col(\"vine\").contains('Y'))\n",
        "paid_df = helpful_votes_df.filter(fun.col(\"vine\") =='Y')\n",
        "paid_df.show()"
      ],
      "metadata": {
        "colab": {
          "base_uri": "https://localhost:8080/"
        },
        "id": "mSgDrTlLbSsu",
        "outputId": "5519091d-8261-4410-c80c-5fa47b062208"
      },
      "execution_count": 68,
      "outputs": [
        {
          "output_type": "stream",
          "name": "stdout",
          "text": [
            "+--------------+-----------+-------------+-----------+----+-----------------+------------------+\n",
            "|     review_id|star_rating|helpful_votes|total_votes|vine|verified_purchase|      more_helpful|\n",
            "+--------------+-----------+-------------+-----------+----+-----------------+------------------+\n",
            "| RG70K1HMY4LXX|          4|           37|         44|   Y|                N|0.8409090909090909|\n",
            "|R1DHGTNXDXJ0GB|          5|           78|         93|   Y|                N|0.8387096774193549|\n",
            "|R3B5S3OSA8N6AO|          5|           38|         43|   Y|                N|0.8837209302325582|\n",
            "|R29X0YBS0SBIUP|          5|           56|         74|   Y|                N|0.7567567567567568|\n",
            "|R1ZEDMCU6NYC8Q|          3|           26|         27|   Y|                N|0.9629629629629629|\n",
            "| RVBJM1LUI9X9K|          5|           27|         28|   Y|                N|0.9642857142857143|\n",
            "| R1KASHD9QSDMV|          4|           18|         21|   Y|                N|0.8571428571428571|\n",
            "|R1M3LATUI38MK0|          5|           46|         50|   Y|                N|              0.92|\n",
            "|R20JZQ3AQVYNAU|          4|          103|        113|   Y|                N| 0.911504424778761|\n",
            "|R1EHXYTMBO4D28|          1|           56|         61|   Y|                N|0.9180327868852459|\n",
            "|R3FIEE8HAF008L|          1|           23|         26|   Y|                N|0.8846153846153846|\n",
            "| RZJ5628PIAE8M|          4|           23|         23|   Y|                N|               1.0|\n",
            "|R2YTV8JFB132UU|          5|           29|         35|   Y|                N|0.8285714285714286|\n",
            "| R9B39IY63XE6H|          1|           88|         97|   Y|                N|0.9072164948453608|\n",
            "|R3IYA2K7643J5F|          3|           28|         35|   Y|                N|               0.8|\n",
            "|R25HQLXMBJABQL|          5|           93|         97|   Y|                N|0.9587628865979382|\n",
            "|R1NCMEN9DCHB2U|          3|           92|        100|   Y|                N|              0.92|\n",
            "| RFN5GI4LWX31V|          2|           43|         49|   Y|                N|0.8775510204081632|\n",
            "|R1DLUEYOWRMJ2K|          5|          130|        142|   Y|                N|0.9154929577464789|\n",
            "| RXDWRD20KTQO1|          4|           24|         24|   Y|                N|               1.0|\n",
            "+--------------+-----------+-------------+-----------+----+-----------------+------------------+\n",
            "only showing top 20 rows\n",
            "\n"
          ]
        }
      ]
    },
    {
      "cell_type": "code",
      "source": [
        "unpaid_df = helpful_votes_df.filter(fun.col(\"vine\") =='N')\n",
        "unpaid_df.show()"
      ],
      "metadata": {
        "colab": {
          "base_uri": "https://localhost:8080/"
        },
        "id": "z0cRDqEnf59R",
        "outputId": "b1952cf3-0aa8-4b53-f686-8cf71f2519ba"
      },
      "execution_count": 72,
      "outputs": [
        {
          "output_type": "stream",
          "name": "stdout",
          "text": [
            "+--------------+-----------+-------------+-----------+----+-----------------+------------------+\n",
            "|     review_id|star_rating|helpful_votes|total_votes|vine|verified_purchase|      more_helpful|\n",
            "+--------------+-----------+-------------+-----------+----+-----------------+------------------+\n",
            "|R2984F9VD9WDJB|          1|           37|         46|   N|                Y|0.8043478260869565|\n",
            "|R218TGWCIAZYNY|          5|          191|        198|   N|                Y|0.9646464646464646|\n",
            "| RGC2TLSBHLPZA|          5|           49|         50|   N|                Y|              0.98|\n",
            "|R2YYVOW2RYGRM8|          5|           27|         28|   N|                Y|0.9642857142857143|\n",
            "|R2X4WF89XICSB2|          1|           21|         21|   N|                Y|               1.0|\n",
            "|R1M1KJ4SQE4INF|          5|           20|         21|   N|                N|0.9523809523809523|\n",
            "| RK8MUEWEUGV6V|          4|          105|        113|   N|                N|0.9292035398230089|\n",
            "|R3JF2SBRHZITRZ|          5|           24|         26|   N|                N|0.9230769230769231|\n",
            "| RLJN73T8WUYIR|          5|          124|        128|   N|                Y|           0.96875|\n",
            "| RYA9ESIATW4EC|          1|           23|         27|   N|                N|0.8518518518518519|\n",
            "|R15RF9IWXWX3IH|          5|           25|         31|   N|                N|0.8064516129032258|\n",
            "|R1GNMWLUMCOC6V|          5|           21|         23|   N|                N|0.9130434782608695|\n",
            "|R2SLKTWAJ7BR9K|          5|           33|         36|   N|                Y|0.9166666666666666|\n",
            "|R1NKKJ720BC2VM|          5|           25|         28|   N|                Y|0.8928571428571429|\n",
            "|R3ATNR4AESV090|          4|           38|         40|   N|                Y|              0.95|\n",
            "|R36XRSNV1M0ADW|          5|           82|         95|   N|                Y|0.8631578947368421|\n",
            "|R203G800OB64XF|          3|           57|         72|   N|                N|0.7916666666666666|\n",
            "|R31LBT37BJZE6B|          1|           14|         20|   N|                Y|               0.7|\n",
            "|R119CG8XK73M2B|          5|           77|         77|   N|                Y|               1.0|\n",
            "| RCOVDTGR8NH87|          5|           59|         67|   N|                N|0.8805970149253731|\n",
            "+--------------+-----------+-------------+-----------+----+-----------------+------------------+\n",
            "only showing top 20 rows\n",
            "\n"
          ]
        }
      ]
    },
    {
      "cell_type": "code",
      "source": [
        "reviews_df = paid_df.count()\n",
        "print(f'There are {reviews_df} paid reviews')"
      ],
      "metadata": {
        "colab": {
          "base_uri": "https://localhost:8080/"
        },
        "id": "QTr8Yi-hgjA5",
        "outputId": "91ad277e-befc-4b52-8f67-24e2d333c8fb"
      },
      "execution_count": 79,
      "outputs": [
        {
          "output_type": "stream",
          "name": "stdout",
          "text": [
            "There are 497 paid reviews\n"
          ]
        }
      ]
    },
    {
      "cell_type": "code",
      "source": [
        "unpaid_reviews_df = unpaid_df.count()\n",
        "print(f'There are {unpaid_reviews_df} unpaid reviews')"
      ],
      "metadata": {
        "colab": {
          "base_uri": "https://localhost:8080/"
        },
        "id": "LVcQgD72h6FO",
        "outputId": "de14f5b4-44a2-438f-c1d0-47769729c934"
      },
      "execution_count": 80,
      "outputs": [
        {
          "output_type": "stream",
          "name": "stdout",
          "text": [
            "There are 120863 unpaid reviews\n"
          ]
        }
      ]
    },
    {
      "cell_type": "code",
      "source": [
        "p = paid_df.filter(fun.col(\"Star_rating\") == 5).count()\n",
        "print(f'There are {p} paid 5 star ratings')"
      ],
      "metadata": {
        "colab": {
          "base_uri": "https://localhost:8080/"
        },
        "id": "EtmbWM2XiIoN",
        "outputId": "ffab6dbe-c64c-44f3-8928-4cac4d67a24e"
      },
      "execution_count": 82,
      "outputs": [
        {
          "output_type": "stream",
          "name": "stdout",
          "text": [
            "There are 220 paid 5 star ratings\n"
          ]
        }
      ]
    },
    {
      "cell_type": "code",
      "source": [
        "u = unpaid_df.filter(fun.col(\"star_rating\") ==5).count()\n",
        "print(f'There are {u} unpaid 5 star ratings')"
      ],
      "metadata": {
        "colab": {
          "base_uri": "https://localhost:8080/"
        },
        "id": "DznGGHvzifPw",
        "outputId": "077d609d-0925-4203-81b1-4dfad1382f1d"
      },
      "execution_count": 83,
      "outputs": [
        {
          "output_type": "stream",
          "name": "stdout",
          "text": [
            "There are 74470 unpaid 5 star ratings\n"
          ]
        }
      ]
    },
    {
      "cell_type": "code",
      "source": [
        "percent_paid = (p / reviews_df) *100\n",
        "print(f'{round(percent_paid, 2)}% of paid reviews had a 5 star rating')"
      ],
      "metadata": {
        "colab": {
          "base_uri": "https://localhost:8080/"
        },
        "id": "QZY1TFATlocw",
        "outputId": "8c63297f-fdd4-4c24-9a71-57c2f8b841b3"
      },
      "execution_count": 93,
      "outputs": [
        {
          "output_type": "stream",
          "name": "stdout",
          "text": [
            "44.27% of paid reviews had a 5 star rating\n"
          ]
        }
      ]
    },
    {
      "cell_type": "code",
      "source": [
        "percent_unpaid = (u / unpaid_reviews_df) *100\n",
        "print(f'{round(percent_unpaid, 2)}% of unpaid reviews had a 5 star rating')"
      ],
      "metadata": {
        "colab": {
          "base_uri": "https://localhost:8080/"
        },
        "id": "RI1o-lKApwtf",
        "outputId": "0287852e-bf95-4b46-83d6-b3474ba3acca"
      },
      "execution_count": 94,
      "outputs": [
        {
          "output_type": "stream",
          "name": "stdout",
          "text": [
            "61.62% of unpaid reviews had a 5 star rating\n"
          ]
        }
      ]
    }
  ]
}